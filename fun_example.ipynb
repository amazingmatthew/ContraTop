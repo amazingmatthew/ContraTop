{
 "cells": [
  {
   "cell_type": "code",
   "execution_count": 2,
   "metadata": {},
   "outputs": [],
   "source": [
    "from transformers import AutoModel, AutoTokenizer\n",
    "import torch\n",
    "from sklearn.metrics.pairwise import cosine_similarity\n",
    "import numpy as np"
   ]
  },
  {
   "cell_type": "code",
   "execution_count": 3,
   "metadata": {},
   "outputs": [],
   "source": [
    "MODEL_NAME = 'sentence-transformers/all-mpnet-base-v2'\n",
    "#MODEL_NAME = 'sentence-transformers/all-MiniLM-L6-v2'"
   ]
  },
  {
   "cell_type": "code",
   "execution_count": 4,
   "metadata": {},
   "outputs": [],
   "source": [
    "sentences = ['NLP is about','What is NLP?',      \n",
    "             'NLP is good', 'the album is fire']"
   ]
  },
  {
   "cell_type": "code",
   "execution_count": 5,
   "metadata": {},
   "outputs": [],
   "source": [
    "tokenizer = AutoTokenizer.from_pretrained(MODEL_NAME)\n",
    "model = AutoModel.from_pretrained(MODEL_NAME,\n",
    "                                  output_hidden_states = True \n",
    "                                  )\n",
    "encoded_input = tokenizer(sentences, padding=True, truncation=True, return_tensors='pt')\n",
    "with torch.no_grad():  \n",
    "    model_output = model(**encoded_input)"
   ]
  },
  {
   "cell_type": "code",
   "execution_count": 6,
   "metadata": {},
   "outputs": [
    {
     "data": {
      "text/plain": [
       "tensor([[    0, 17957,  2365,  2007,  2059,     2,     1],\n",
       "        [    0,  2058,  2007, 17957,  2365,  1033,     2],\n",
       "        [    0, 17957,  2365,  2007,  2208,     2,     1],\n",
       "        [    0,  2000,  2205,  2007,  2547,     2,     1]])"
      ]
     },
     "execution_count": 6,
     "metadata": {},
     "output_type": "execute_result"
    }
   ],
   "source": [
    "encoded_input['input_ids']"
   ]
  },
  {
   "cell_type": "code",
   "execution_count": 11,
   "metadata": {},
   "outputs": [
    {
     "data": {
      "text/plain": [
       "array([[0.82143974]], dtype=float32)"
      ]
     },
     "execution_count": 11,
     "metadata": {},
     "output_type": "execute_result"
    }
   ],
   "source": [
    "nlp1 = (model_output['last_hidden_state'][0][1]+ model_output['last_hidden_state'][0][2])/2 # NLP is \"NLP is about\"\n",
    "nlp2 = (model_output['last_hidden_state'][1][3]+ model_output['last_hidden_state'][1][4])/2 # NLP is \"what is NLP?\"\n",
    "cosine_similarity([np.array(nlp1)], [np.array(nlp2)])"
   ]
  },
  {
   "cell_type": "code",
   "execution_count": 19,
   "metadata": {},
   "outputs": [
    {
     "data": {
      "text/plain": [
       "array([[0.81763816]], dtype=float32)"
      ]
     },
     "execution_count": 19,
     "metadata": {},
     "output_type": "execute_result"
    }
   ],
   "source": [
    "nlp1 = (model_output['last_hidden_state'][0][1]+ model_output['last_hidden_state'][0][2])/2 # NLP in \"NLP is about\"\n",
    "is1 = model_output['last_hidden_state'][0][3]                                               # is  in \"NLP is about\"\n",
    "cosine_similarity([np.array(nlp1)], [np.array(is1)])"
   ]
  },
  {
   "cell_type": "code",
   "execution_count": 22,
   "metadata": {},
   "outputs": [
    {
     "data": {
      "text/plain": [
       "array([[0.14208727]], dtype=float32)"
      ]
     },
     "execution_count": 22,
     "metadata": {},
     "output_type": "execute_result"
    }
   ],
   "source": [
    "is3 = model_output['last_hidden_state'][2][3] # \"is\" in NLP is good\n",
    "is4 = model_output['last_hidden_state'][3][3] # \"is\" in the album is fire\n",
    "cosine_similarity([np.array(is3)], [np.array(is4)])"
   ]
  }
 ],
 "metadata": {
  "kernelspec": {
   "display_name": "Python 3.7 (nlp)",
   "language": "python",
   "name": "nlp"
  },
  "language_info": {
   "codemirror_mode": {
    "name": "ipython",
    "version": 3
   },
   "file_extension": ".py",
   "mimetype": "text/x-python",
   "name": "python",
   "nbconvert_exporter": "python",
   "pygments_lexer": "ipython3",
   "version": "3.7.11"
  },
  "orig_nbformat": 4
 },
 "nbformat": 4,
 "nbformat_minor": 2
}
